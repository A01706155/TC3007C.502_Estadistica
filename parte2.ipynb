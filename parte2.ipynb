{
 "cells": [
  {
   "cell_type": "markdown",
   "metadata": {},
   "source": [
    "## Entregable 2: \n",
    "### Calibración de modelo de serie de tiempo para realizar predicción\n",
    "#### Manolo Ramírez Pintor - A01706155"
   ]
  },
  {
   "cell_type": "markdown",
   "metadata": {},
   "source": [
    "**Objetivo:** Calibrar un modelo ARIMA-SARIMA para la serie del ÍNDICE GLOBAL DE ACTIVIDAD ECONÓMICA de México ([CLICK AQUÍ: IGAE](https://www.inegi.org.mx/app/indicadores/?t=95&ag=00#D95)).   \n",
    "\n",
    "Esta serie la puedes descargar del sitio del INEGI. Tienes que realizar el proceso de manejo de datos y calibración del modelo para obtener un pronóstico de la economía mexicana hasta el cierre del sexenio actual (SEP 2024).\n",
    "\n",
    "Archivo descargado. ✅ ``./datasets/Indicadores20221127001716.xls``"
   ]
  },
  {
   "cell_type": "code",
   "execution_count": 1,
   "metadata": {},
   "outputs": [],
   "source": [
    "# !pip install xlrd"
   ]
  },
  {
   "cell_type": "code",
   "execution_count": 2,
   "metadata": {},
   "outputs": [],
   "source": [
    "# !pip install openpyxl"
   ]
  },
  {
   "cell_type": "code",
   "execution_count": 3,
   "metadata": {},
   "outputs": [],
   "source": [
    "# Importaré las mismas librerías que usé para la parte 1:\n",
    "import pandas as pd\n",
    "import numpy as np\n",
    "import math\n",
    "# Ignorar warnings de pandas\n",
    "pd.options.mode.chained_assignment = None  # default='warn'\n",
    "# Ignorar warnings en general\n",
    "import warnings\n",
    "warnings.filterwarnings('ignore') # setting ignore as a parameter\n",
    "# Librerias para modelado, regresiones y obtención de resultados:\n",
    "import statsmodels.api as sm\n",
    "from statsmodels.tsa.stattools import adfuller # Dickey Fuller\n",
    "from statsmodels.stats.outliers_influence import variance_inflation_factor\n",
    "from statsmodels.graphics.tsaplots import plot_acf, plot_pacf\n",
    "# Librerías de graficado\n",
    "import matplotlib.pyplot as plt"
   ]
  },
  {
   "cell_type": "markdown",
   "metadata": {},
   "source": [
    "Ya que el archivo viene con un formato extraño, decidí modificarlo en Google Docs y pasar los datos normales a una nueva hoja que que le llamé 'data'."
   ]
  },
  {
   "cell_type": "code",
   "execution_count": 4,
   "metadata": {},
   "outputs": [
    {
     "data": {
      "text/html": [
       "<div>\n",
       "<style scoped>\n",
       "    .dataframe tbody tr th:only-of-type {\n",
       "        vertical-align: middle;\n",
       "    }\n",
       "\n",
       "    .dataframe tbody tr th {\n",
       "        vertical-align: top;\n",
       "    }\n",
       "\n",
       "    .dataframe thead th {\n",
       "        text-align: right;\n",
       "    }\n",
       "</style>\n",
       "<table border=\"1\" class=\"dataframe\">\n",
       "  <thead>\n",
       "    <tr style=\"text-align: right;\">\n",
       "      <th></th>\n",
       "      <th>Indicador</th>\n",
       "      <th>Nombre Indicador</th>\n",
       "      <th>Clave área geográfica</th>\n",
       "      <th>Entidad</th>\n",
       "      <th>Municipio</th>\n",
       "      <th>Periodo</th>\n",
       "      <th>Valor</th>\n",
       "      <th>Excepción</th>\n",
       "      <th>Unidad de medida</th>\n",
       "      <th>Frecuencia</th>\n",
       "      <th>Information Status</th>\n",
       "      <th>Referencias</th>\n",
       "    </tr>\n",
       "  </thead>\n",
       "  <tbody>\n",
       "    <tr>\n",
       "      <th>0</th>\n",
       "      <td>6207061409</td>\n",
       "      <td>IGAE. Índice de volumen físico base 2013=100. ...</td>\n",
       "      <td>700</td>\n",
       "      <td>Estados Unidos Mexicanos</td>\n",
       "      <td>Estados Unidos Mexicanos</td>\n",
       "      <td>2022/09</td>\n",
       "      <td>109.489937</td>\n",
       "      <td>NaN</td>\n",
       "      <td>Índice de volumen físico base 2013=100</td>\n",
       "      <td>Mensual</td>\n",
       "      <td>NaN</td>\n",
       "      <td>/a  /f1  /r1</td>\n",
       "    </tr>\n",
       "    <tr>\n",
       "      <th>1</th>\n",
       "      <td>6207061409</td>\n",
       "      <td>IGAE. Índice de volumen físico base 2013=100. ...</td>\n",
       "      <td>700</td>\n",
       "      <td>Estados Unidos Mexicanos</td>\n",
       "      <td>Estados Unidos Mexicanos</td>\n",
       "      <td>2022/08</td>\n",
       "      <td>113.084930</td>\n",
       "      <td>NaN</td>\n",
       "      <td>Índice de volumen físico base 2013=100</td>\n",
       "      <td>Mensual</td>\n",
       "      <td>NaN</td>\n",
       "      <td>/a  /f1  /r1</td>\n",
       "    </tr>\n",
       "    <tr>\n",
       "      <th>2</th>\n",
       "      <td>6207061409</td>\n",
       "      <td>IGAE. Índice de volumen físico base 2013=100. ...</td>\n",
       "      <td>700</td>\n",
       "      <td>Estados Unidos Mexicanos</td>\n",
       "      <td>Estados Unidos Mexicanos</td>\n",
       "      <td>2022/07</td>\n",
       "      <td>111.112423</td>\n",
       "      <td>NaN</td>\n",
       "      <td>Índice de volumen físico base 2013=100</td>\n",
       "      <td>Mensual</td>\n",
       "      <td>NaN</td>\n",
       "      <td>/a  /f1  /r1</td>\n",
       "    </tr>\n",
       "    <tr>\n",
       "      <th>3</th>\n",
       "      <td>6207061409</td>\n",
       "      <td>IGAE. Índice de volumen físico base 2013=100. ...</td>\n",
       "      <td>700</td>\n",
       "      <td>Estados Unidos Mexicanos</td>\n",
       "      <td>Estados Unidos Mexicanos</td>\n",
       "      <td>2022/06</td>\n",
       "      <td>112.770049</td>\n",
       "      <td>NaN</td>\n",
       "      <td>Índice de volumen físico base 2013=100</td>\n",
       "      <td>Mensual</td>\n",
       "      <td>NaN</td>\n",
       "      <td>/a  /f1  /r1</td>\n",
       "    </tr>\n",
       "    <tr>\n",
       "      <th>4</th>\n",
       "      <td>6207061409</td>\n",
       "      <td>IGAE. Índice de volumen físico base 2013=100. ...</td>\n",
       "      <td>700</td>\n",
       "      <td>Estados Unidos Mexicanos</td>\n",
       "      <td>Estados Unidos Mexicanos</td>\n",
       "      <td>2022/05</td>\n",
       "      <td>114.311084</td>\n",
       "      <td>NaN</td>\n",
       "      <td>Índice de volumen físico base 2013=100</td>\n",
       "      <td>Mensual</td>\n",
       "      <td>NaN</td>\n",
       "      <td>/a  /f1  /r1</td>\n",
       "    </tr>\n",
       "    <tr>\n",
       "      <th>...</th>\n",
       "      <td>...</td>\n",
       "      <td>...</td>\n",
       "      <td>...</td>\n",
       "      <td>...</td>\n",
       "      <td>...</td>\n",
       "      <td>...</td>\n",
       "      <td>...</td>\n",
       "      <td>...</td>\n",
       "      <td>...</td>\n",
       "      <td>...</td>\n",
       "      <td>...</td>\n",
       "      <td>...</td>\n",
       "    </tr>\n",
       "    <tr>\n",
       "      <th>352</th>\n",
       "      <td>6207061409</td>\n",
       "      <td>IGAE. Índice de volumen físico base 2013=100. ...</td>\n",
       "      <td>700</td>\n",
       "      <td>Estados Unidos Mexicanos</td>\n",
       "      <td>Estados Unidos Mexicanos</td>\n",
       "      <td>1993/05</td>\n",
       "      <td>63.612900</td>\n",
       "      <td>NaN</td>\n",
       "      <td>Índice de volumen físico base 2013=100</td>\n",
       "      <td>Mensual</td>\n",
       "      <td>NaN</td>\n",
       "      <td>/a  /f1  /r1</td>\n",
       "    </tr>\n",
       "    <tr>\n",
       "      <th>353</th>\n",
       "      <td>6207061409</td>\n",
       "      <td>IGAE. Índice de volumen físico base 2013=100. ...</td>\n",
       "      <td>700</td>\n",
       "      <td>Estados Unidos Mexicanos</td>\n",
       "      <td>Estados Unidos Mexicanos</td>\n",
       "      <td>1993/04</td>\n",
       "      <td>61.865984</td>\n",
       "      <td>NaN</td>\n",
       "      <td>Índice de volumen físico base 2013=100</td>\n",
       "      <td>Mensual</td>\n",
       "      <td>NaN</td>\n",
       "      <td>/a  /f1  /r1</td>\n",
       "    </tr>\n",
       "    <tr>\n",
       "      <th>354</th>\n",
       "      <td>6207061409</td>\n",
       "      <td>IGAE. Índice de volumen físico base 2013=100. ...</td>\n",
       "      <td>700</td>\n",
       "      <td>Estados Unidos Mexicanos</td>\n",
       "      <td>Estados Unidos Mexicanos</td>\n",
       "      <td>1993/03</td>\n",
       "      <td>63.943249</td>\n",
       "      <td>NaN</td>\n",
       "      <td>Índice de volumen físico base 2013=100</td>\n",
       "      <td>Mensual</td>\n",
       "      <td>NaN</td>\n",
       "      <td>/a  /f1  /r1</td>\n",
       "    </tr>\n",
       "    <tr>\n",
       "      <th>355</th>\n",
       "      <td>6207061409</td>\n",
       "      <td>IGAE. Índice de volumen físico base 2013=100. ...</td>\n",
       "      <td>700</td>\n",
       "      <td>Estados Unidos Mexicanos</td>\n",
       "      <td>Estados Unidos Mexicanos</td>\n",
       "      <td>1993/02</td>\n",
       "      <td>61.022521</td>\n",
       "      <td>NaN</td>\n",
       "      <td>Índice de volumen físico base 2013=100</td>\n",
       "      <td>Mensual</td>\n",
       "      <td>NaN</td>\n",
       "      <td>/a  /f1  /r1</td>\n",
       "    </tr>\n",
       "    <tr>\n",
       "      <th>356</th>\n",
       "      <td>6207061409</td>\n",
       "      <td>IGAE. Índice de volumen físico base 2013=100. ...</td>\n",
       "      <td>700</td>\n",
       "      <td>Estados Unidos Mexicanos</td>\n",
       "      <td>Estados Unidos Mexicanos</td>\n",
       "      <td>1993/01</td>\n",
       "      <td>60.407691</td>\n",
       "      <td>NaN</td>\n",
       "      <td>Índice de volumen físico base 2013=100</td>\n",
       "      <td>Mensual</td>\n",
       "      <td>NaN</td>\n",
       "      <td>/a  /f1  /r1</td>\n",
       "    </tr>\n",
       "  </tbody>\n",
       "</table>\n",
       "<p>357 rows × 12 columns</p>\n",
       "</div>"
      ],
      "text/plain": [
       "      Indicador                                   Nombre Indicador  \\\n",
       "0    6207061409  IGAE. Índice de volumen físico base 2013=100. ...   \n",
       "1    6207061409  IGAE. Índice de volumen físico base 2013=100. ...   \n",
       "2    6207061409  IGAE. Índice de volumen físico base 2013=100. ...   \n",
       "3    6207061409  IGAE. Índice de volumen físico base 2013=100. ...   \n",
       "4    6207061409  IGAE. Índice de volumen físico base 2013=100. ...   \n",
       "..          ...                                                ...   \n",
       "352  6207061409  IGAE. Índice de volumen físico base 2013=100. ...   \n",
       "353  6207061409  IGAE. Índice de volumen físico base 2013=100. ...   \n",
       "354  6207061409  IGAE. Índice de volumen físico base 2013=100. ...   \n",
       "355  6207061409  IGAE. Índice de volumen físico base 2013=100. ...   \n",
       "356  6207061409  IGAE. Índice de volumen físico base 2013=100. ...   \n",
       "\n",
       "     Clave área geográfica                   Entidad  \\\n",
       "0                      700  Estados Unidos Mexicanos   \n",
       "1                      700  Estados Unidos Mexicanos   \n",
       "2                      700  Estados Unidos Mexicanos   \n",
       "3                      700  Estados Unidos Mexicanos   \n",
       "4                      700  Estados Unidos Mexicanos   \n",
       "..                     ...                       ...   \n",
       "352                    700  Estados Unidos Mexicanos   \n",
       "353                    700  Estados Unidos Mexicanos   \n",
       "354                    700  Estados Unidos Mexicanos   \n",
       "355                    700  Estados Unidos Mexicanos   \n",
       "356                    700  Estados Unidos Mexicanos   \n",
       "\n",
       "                    Municipio  Periodo       Valor  Excepción  \\\n",
       "0    Estados Unidos Mexicanos  2022/09  109.489937        NaN   \n",
       "1    Estados Unidos Mexicanos  2022/08  113.084930        NaN   \n",
       "2    Estados Unidos Mexicanos  2022/07  111.112423        NaN   \n",
       "3    Estados Unidos Mexicanos  2022/06  112.770049        NaN   \n",
       "4    Estados Unidos Mexicanos  2022/05  114.311084        NaN   \n",
       "..                        ...      ...         ...        ...   \n",
       "352  Estados Unidos Mexicanos  1993/05   63.612900        NaN   \n",
       "353  Estados Unidos Mexicanos  1993/04   61.865984        NaN   \n",
       "354  Estados Unidos Mexicanos  1993/03   63.943249        NaN   \n",
       "355  Estados Unidos Mexicanos  1993/02   61.022521        NaN   \n",
       "356  Estados Unidos Mexicanos  1993/01   60.407691        NaN   \n",
       "\n",
       "                           Unidad de medida Frecuencia  Information Status  \\\n",
       "0    Índice de volumen físico base 2013=100    Mensual                 NaN   \n",
       "1    Índice de volumen físico base 2013=100    Mensual                 NaN   \n",
       "2    Índice de volumen físico base 2013=100    Mensual                 NaN   \n",
       "3    Índice de volumen físico base 2013=100    Mensual                 NaN   \n",
       "4    Índice de volumen físico base 2013=100    Mensual                 NaN   \n",
       "..                                      ...        ...                 ...   \n",
       "352  Índice de volumen físico base 2013=100    Mensual                 NaN   \n",
       "353  Índice de volumen físico base 2013=100    Mensual                 NaN   \n",
       "354  Índice de volumen físico base 2013=100    Mensual                 NaN   \n",
       "355  Índice de volumen físico base 2013=100    Mensual                 NaN   \n",
       "356  Índice de volumen físico base 2013=100    Mensual                 NaN   \n",
       "\n",
       "        Referencias  \n",
       "0    /a  /f1  /r1    \n",
       "1    /a  /f1  /r1    \n",
       "2    /a  /f1  /r1    \n",
       "3    /a  /f1  /r1    \n",
       "4    /a  /f1  /r1    \n",
       "..              ...  \n",
       "352  /a  /f1  /r1    \n",
       "353  /a  /f1  /r1    \n",
       "354  /a  /f1  /r1    \n",
       "355  /a  /f1  /r1    \n",
       "356  /a  /f1  /r1    \n",
       "\n",
       "[357 rows x 12 columns]"
      ]
     },
     "execution_count": 4,
     "metadata": {},
     "output_type": "execute_result"
    }
   ],
   "source": [
    "df = pd.read_excel('./datasets/Indicadores20221127001716.xlsx', sheet_name='data')\n",
    "df"
   ]
  },
  {
   "cell_type": "markdown",
   "metadata": {},
   "source": [
    "Ya que no necesitamos todas las columnas, tomaremos sólo las de Periodo y Valor"
   ]
  },
  {
   "cell_type": "code",
   "execution_count": 5,
   "metadata": {},
   "outputs": [
    {
     "data": {
      "text/html": [
       "<div>\n",
       "<style scoped>\n",
       "    .dataframe tbody tr th:only-of-type {\n",
       "        vertical-align: middle;\n",
       "    }\n",
       "\n",
       "    .dataframe tbody tr th {\n",
       "        vertical-align: top;\n",
       "    }\n",
       "\n",
       "    .dataframe thead th {\n",
       "        text-align: right;\n",
       "    }\n",
       "</style>\n",
       "<table border=\"1\" class=\"dataframe\">\n",
       "  <thead>\n",
       "    <tr style=\"text-align: right;\">\n",
       "      <th></th>\n",
       "      <th>Periodo</th>\n",
       "      <th>Valor</th>\n",
       "    </tr>\n",
       "  </thead>\n",
       "  <tbody>\n",
       "    <tr>\n",
       "      <th>0</th>\n",
       "      <td>2022/09</td>\n",
       "      <td>109.489937</td>\n",
       "    </tr>\n",
       "    <tr>\n",
       "      <th>1</th>\n",
       "      <td>2022/08</td>\n",
       "      <td>113.084930</td>\n",
       "    </tr>\n",
       "    <tr>\n",
       "      <th>2</th>\n",
       "      <td>2022/07</td>\n",
       "      <td>111.112423</td>\n",
       "    </tr>\n",
       "    <tr>\n",
       "      <th>3</th>\n",
       "      <td>2022/06</td>\n",
       "      <td>112.770049</td>\n",
       "    </tr>\n",
       "    <tr>\n",
       "      <th>4</th>\n",
       "      <td>2022/05</td>\n",
       "      <td>114.311084</td>\n",
       "    </tr>\n",
       "    <tr>\n",
       "      <th>...</th>\n",
       "      <td>...</td>\n",
       "      <td>...</td>\n",
       "    </tr>\n",
       "    <tr>\n",
       "      <th>352</th>\n",
       "      <td>1993/05</td>\n",
       "      <td>63.612900</td>\n",
       "    </tr>\n",
       "    <tr>\n",
       "      <th>353</th>\n",
       "      <td>1993/04</td>\n",
       "      <td>61.865984</td>\n",
       "    </tr>\n",
       "    <tr>\n",
       "      <th>354</th>\n",
       "      <td>1993/03</td>\n",
       "      <td>63.943249</td>\n",
       "    </tr>\n",
       "    <tr>\n",
       "      <th>355</th>\n",
       "      <td>1993/02</td>\n",
       "      <td>61.022521</td>\n",
       "    </tr>\n",
       "    <tr>\n",
       "      <th>356</th>\n",
       "      <td>1993/01</td>\n",
       "      <td>60.407691</td>\n",
       "    </tr>\n",
       "  </tbody>\n",
       "</table>\n",
       "<p>357 rows × 2 columns</p>\n",
       "</div>"
      ],
      "text/plain": [
       "     Periodo       Valor\n",
       "0    2022/09  109.489937\n",
       "1    2022/08  113.084930\n",
       "2    2022/07  111.112423\n",
       "3    2022/06  112.770049\n",
       "4    2022/05  114.311084\n",
       "..       ...         ...\n",
       "352  1993/05   63.612900\n",
       "353  1993/04   61.865984\n",
       "354  1993/03   63.943249\n",
       "355  1993/02   61.022521\n",
       "356  1993/01   60.407691\n",
       "\n",
       "[357 rows x 2 columns]"
      ]
     },
     "execution_count": 5,
     "metadata": {},
     "output_type": "execute_result"
    }
   ],
   "source": [
    "df = df.drop(columns=['Indicador', 'Nombre Indicador', 'Clave área geográfica', \n",
    "                      'Entidad', 'Municipio', 'Excepción', 'Unidad de medida', \n",
    "                      'Frecuencia', 'Information Status', 'Referencias'\n",
    "                     ])\n",
    "df"
   ]
  },
  {
   "cell_type": "markdown",
   "metadata": {},
   "source": [
    "Ya que las fechas están **severlá**. Las acomodaremos en forma de time-series."
   ]
  },
  {
   "cell_type": "code",
   "execution_count": 6,
   "metadata": {},
   "outputs": [
    {
     "data": {
      "text/html": [
       "<div>\n",
       "<style scoped>\n",
       "    .dataframe tbody tr th:only-of-type {\n",
       "        vertical-align: middle;\n",
       "    }\n",
       "\n",
       "    .dataframe tbody tr th {\n",
       "        vertical-align: top;\n",
       "    }\n",
       "\n",
       "    .dataframe thead th {\n",
       "        text-align: right;\n",
       "    }\n",
       "</style>\n",
       "<table border=\"1\" class=\"dataframe\">\n",
       "  <thead>\n",
       "    <tr style=\"text-align: right;\">\n",
       "      <th></th>\n",
       "      <th>Periodo</th>\n",
       "      <th>Valor</th>\n",
       "    </tr>\n",
       "  </thead>\n",
       "  <tbody>\n",
       "    <tr>\n",
       "      <th>356</th>\n",
       "      <td>1993/01</td>\n",
       "      <td>60.407691</td>\n",
       "    </tr>\n",
       "    <tr>\n",
       "      <th>355</th>\n",
       "      <td>1993/02</td>\n",
       "      <td>61.022521</td>\n",
       "    </tr>\n",
       "    <tr>\n",
       "      <th>354</th>\n",
       "      <td>1993/03</td>\n",
       "      <td>63.943249</td>\n",
       "    </tr>\n",
       "    <tr>\n",
       "      <th>353</th>\n",
       "      <td>1993/04</td>\n",
       "      <td>61.865984</td>\n",
       "    </tr>\n",
       "    <tr>\n",
       "      <th>352</th>\n",
       "      <td>1993/05</td>\n",
       "      <td>63.612900</td>\n",
       "    </tr>\n",
       "    <tr>\n",
       "      <th>...</th>\n",
       "      <td>...</td>\n",
       "      <td>...</td>\n",
       "    </tr>\n",
       "    <tr>\n",
       "      <th>4</th>\n",
       "      <td>2022/05</td>\n",
       "      <td>114.311084</td>\n",
       "    </tr>\n",
       "    <tr>\n",
       "      <th>3</th>\n",
       "      <td>2022/06</td>\n",
       "      <td>112.770049</td>\n",
       "    </tr>\n",
       "    <tr>\n",
       "      <th>2</th>\n",
       "      <td>2022/07</td>\n",
       "      <td>111.112423</td>\n",
       "    </tr>\n",
       "    <tr>\n",
       "      <th>1</th>\n",
       "      <td>2022/08</td>\n",
       "      <td>113.084930</td>\n",
       "    </tr>\n",
       "    <tr>\n",
       "      <th>0</th>\n",
       "      <td>2022/09</td>\n",
       "      <td>109.489937</td>\n",
       "    </tr>\n",
       "  </tbody>\n",
       "</table>\n",
       "<p>357 rows × 2 columns</p>\n",
       "</div>"
      ],
      "text/plain": [
       "     Periodo       Valor\n",
       "356  1993/01   60.407691\n",
       "355  1993/02   61.022521\n",
       "354  1993/03   63.943249\n",
       "353  1993/04   61.865984\n",
       "352  1993/05   63.612900\n",
       "..       ...         ...\n",
       "4    2022/05  114.311084\n",
       "3    2022/06  112.770049\n",
       "2    2022/07  111.112423\n",
       "1    2022/08  113.084930\n",
       "0    2022/09  109.489937\n",
       "\n",
       "[357 rows x 2 columns]"
      ]
     },
     "execution_count": 6,
     "metadata": {},
     "output_type": "execute_result"
    }
   ],
   "source": [
    "df = df.sort_values('Periodo')\n",
    "df"
   ]
  },
  {
   "cell_type": "markdown",
   "metadata": {},
   "source": [
    "Bueno, ahora acomodaremos los índices porque se quedaron igual."
   ]
  },
  {
   "cell_type": "code",
   "execution_count": 7,
   "metadata": {},
   "outputs": [
    {
     "data": {
      "text/html": [
       "<div>\n",
       "<style scoped>\n",
       "    .dataframe tbody tr th:only-of-type {\n",
       "        vertical-align: middle;\n",
       "    }\n",
       "\n",
       "    .dataframe tbody tr th {\n",
       "        vertical-align: top;\n",
       "    }\n",
       "\n",
       "    .dataframe thead th {\n",
       "        text-align: right;\n",
       "    }\n",
       "</style>\n",
       "<table border=\"1\" class=\"dataframe\">\n",
       "  <thead>\n",
       "    <tr style=\"text-align: right;\">\n",
       "      <th></th>\n",
       "      <th>Periodo</th>\n",
       "      <th>Valor</th>\n",
       "    </tr>\n",
       "  </thead>\n",
       "  <tbody>\n",
       "    <tr>\n",
       "      <th>0</th>\n",
       "      <td>1993/01</td>\n",
       "      <td>60.407691</td>\n",
       "    </tr>\n",
       "    <tr>\n",
       "      <th>1</th>\n",
       "      <td>1993/02</td>\n",
       "      <td>61.022521</td>\n",
       "    </tr>\n",
       "    <tr>\n",
       "      <th>2</th>\n",
       "      <td>1993/03</td>\n",
       "      <td>63.943249</td>\n",
       "    </tr>\n",
       "    <tr>\n",
       "      <th>3</th>\n",
       "      <td>1993/04</td>\n",
       "      <td>61.865984</td>\n",
       "    </tr>\n",
       "    <tr>\n",
       "      <th>4</th>\n",
       "      <td>1993/05</td>\n",
       "      <td>63.612900</td>\n",
       "    </tr>\n",
       "    <tr>\n",
       "      <th>...</th>\n",
       "      <td>...</td>\n",
       "      <td>...</td>\n",
       "    </tr>\n",
       "    <tr>\n",
       "      <th>352</th>\n",
       "      <td>2022/05</td>\n",
       "      <td>114.311084</td>\n",
       "    </tr>\n",
       "    <tr>\n",
       "      <th>353</th>\n",
       "      <td>2022/06</td>\n",
       "      <td>112.770049</td>\n",
       "    </tr>\n",
       "    <tr>\n",
       "      <th>354</th>\n",
       "      <td>2022/07</td>\n",
       "      <td>111.112423</td>\n",
       "    </tr>\n",
       "    <tr>\n",
       "      <th>355</th>\n",
       "      <td>2022/08</td>\n",
       "      <td>113.084930</td>\n",
       "    </tr>\n",
       "    <tr>\n",
       "      <th>356</th>\n",
       "      <td>2022/09</td>\n",
       "      <td>109.489937</td>\n",
       "    </tr>\n",
       "  </tbody>\n",
       "</table>\n",
       "<p>357 rows × 2 columns</p>\n",
       "</div>"
      ],
      "text/plain": [
       "     Periodo       Valor\n",
       "0    1993/01   60.407691\n",
       "1    1993/02   61.022521\n",
       "2    1993/03   63.943249\n",
       "3    1993/04   61.865984\n",
       "4    1993/05   63.612900\n",
       "..       ...         ...\n",
       "352  2022/05  114.311084\n",
       "353  2022/06  112.770049\n",
       "354  2022/07  111.112423\n",
       "355  2022/08  113.084930\n",
       "356  2022/09  109.489937\n",
       "\n",
       "[357 rows x 2 columns]"
      ]
     },
     "execution_count": 7,
     "metadata": {},
     "output_type": "execute_result"
    }
   ],
   "source": [
    "df = df.reset_index()\n",
    "df = df.drop(columns=['index'])\n",
    "df"
   ]
  },
  {
   "cell_type": "markdown",
   "metadata": {},
   "source": [
    "Ahora sí, ya podemos trabajar con estos datos."
   ]
  },
  {
   "cell_type": "markdown",
   "metadata": {},
   "source": [
    "1. Realizar pruebas estadísticas de estacionariedad y decide el tipo de transformación de la variable.   \n",
    "    \n",
    "    Para ello, vamos a revisar y analizar cómo se ve el valor respecto al paso del tiempo."
   ]
  },
  {
   "cell_type": "code",
   "execution_count": 8,
   "metadata": {},
   "outputs": [
    {
     "data": {
      "image/png": "[encoded data removed]",
      "text/plain": [
       "<Figure size 1440x432 with 1 Axes>"
      ]
     },
     "metadata": {
      "needs_background": "light"
     },
     "output_type": "display_data"
    }
   ],
   "source": [
    "plt.figure(figsize=(20, 6))\n",
    "plt.plot(df['Periodo'], df['Valor'])\n",
    "plt.title(\"Valor vs Periodo\")\n",
    "plt.xlabel(\"Fecha\")\n",
    "plt.ylabel(\"Valor\")\n",
    "plt.xticks(rotation=90)\n",
    "plt.tight_layout()\n",
    "plt.show()"
   ]
  },
  {
   "cell_type": "markdown",
   "metadata": {},
   "source": [
    "A partir de estos datos, podemos observar que a través del tiempo existe un crecimiento constante con ciertas bajadas grandes pero que tienen recuperación, excepto hasta los últimos, ahí hay una bajada extrema y no existe una recuperación completa.   \n",
    "\n",
    "Esto lo convierte en una tendencia tipo ``no-seasonality`` porque tiende a crecer en el tiempo, además tenemos que ver si hay un patrón dependiendo las estaciones por como se ven los datos en subida y bajada constantes.   \n",
    "\n",
    "Para probar lo anterior, podemos hacer aplicar una diferencia estacional."
   ]
  },
  {
   "cell_type": "code",
   "execution_count": 9,
   "metadata": {},
   "outputs": [
    {
     "data": {
      "image/png": "[encoded data removed]",
      "text/plain": [
       "<Figure size 1800x432 with 1 Axes>"
      ]
     },
     "metadata": {
      "needs_background": "light"
     },
     "output_type": "display_data"
    }
   ],
   "source": [
    "plt.figure(figsize=(25, 6))\n",
    "plt.title(\"Valor vs Periodo (Seasonal)\")\n",
    "plt.xlabel(\"Fecha\")\n",
    "plt.ylabel(\"Valor\")\n",
    "plt.xticks(rotation=90)\n",
    "plt.plot(df['Periodo'], np.log(df['Valor']) - np.log(df['Valor']).shift(12))\n",
    "plt.tight_layout()\n",
    "plt.show()"
   ]
  },
  {
   "cell_type": "markdown",
   "metadata": {},
   "source": [
    "Visualmente podemos apreciar que lo que está ahí parece no ser estacionario, para obtener más información al respecto usaremos ``Augmented Dickey-Fuller Test``.\n",
    "\n",
    "Primero prepararemos nuestros datos."
   ]
  },
  {
   "cell_type": "code",
   "execution_count": 10,
   "metadata": {},
   "outputs": [
    {
     "data": {
      "text/html": [
       "<div>\n",
       "<style scoped>\n",
       "    .dataframe tbody tr th:only-of-type {\n",
       "        vertical-align: middle;\n",
       "    }\n",
       "\n",
       "    .dataframe tbody tr th {\n",
       "        vertical-align: top;\n",
       "    }\n",
       "\n",
       "    .dataframe thead th {\n",
       "        text-align: right;\n",
       "    }\n",
       "</style>\n",
       "<table border=\"1\" class=\"dataframe\">\n",
       "  <thead>\n",
       "    <tr style=\"text-align: right;\">\n",
       "      <th></th>\n",
       "      <th>seasonal</th>\n",
       "    </tr>\n",
       "  </thead>\n",
       "  <tbody>\n",
       "    <tr>\n",
       "      <th>0</th>\n",
       "      <td>4.101116</td>\n",
       "    </tr>\n",
       "    <tr>\n",
       "      <th>1</th>\n",
       "      <td>4.111243</td>\n",
       "    </tr>\n",
       "    <tr>\n",
       "      <th>2</th>\n",
       "      <td>4.157996</td>\n",
       "    </tr>\n",
       "    <tr>\n",
       "      <th>3</th>\n",
       "      <td>4.124970</td>\n",
       "    </tr>\n",
       "    <tr>\n",
       "      <th>4</th>\n",
       "      <td>4.152816</td>\n",
       "    </tr>\n",
       "    <tr>\n",
       "      <th>...</th>\n",
       "      <td>...</td>\n",
       "    </tr>\n",
       "    <tr>\n",
       "      <th>352</th>\n",
       "      <td>4.738924</td>\n",
       "    </tr>\n",
       "    <tr>\n",
       "      <th>353</th>\n",
       "      <td>4.725351</td>\n",
       "    </tr>\n",
       "    <tr>\n",
       "      <th>354</th>\n",
       "      <td>4.710543</td>\n",
       "    </tr>\n",
       "    <tr>\n",
       "      <th>355</th>\n",
       "      <td>4.728139</td>\n",
       "    </tr>\n",
       "    <tr>\n",
       "      <th>356</th>\n",
       "      <td>4.695833</td>\n",
       "    </tr>\n",
       "  </tbody>\n",
       "</table>\n",
       "<p>357 rows × 1 columns</p>\n",
       "</div>"
      ],
      "text/plain": [
       "     seasonal\n",
       "0    4.101116\n",
       "1    4.111243\n",
       "2    4.157996\n",
       "3    4.124970\n",
       "4    4.152816\n",
       "..        ...\n",
       "352  4.738924\n",
       "353  4.725351\n",
       "354  4.710543\n",
       "355  4.728139\n",
       "356  4.695833\n",
       "\n",
       "[357 rows x 1 columns]"
      ]
     },
     "execution_count": 10,
     "metadata": {},
     "output_type": "execute_result"
    }
   ],
   "source": [
    "df_sns = pd.DataFrame()\n",
    "df_sns['seasonal'] = np.log(df['Valor'])\n",
    "df_sns"
   ]
  },
  {
   "cell_type": "code",
   "execution_count": 11,
   "metadata": {},
   "outputs": [
    {
     "data": {
      "text/plain": [
       "(-1.1552907094223324,\n",
       " 0.6925269815444512,\n",
       " 17,\n",
       " 339,\n",
       " {'1%': -3.4497880749874628,\n",
       "  '5%': -2.870103829170425,\n",
       "  '10%': -2.571332495975496},\n",
       " -1542.4627752324886)"
      ]
     },
     "execution_count": 11,
     "metadata": {},
     "output_type": "execute_result"
    }
   ],
   "source": [
    "val_p = adfuller(df_sns['seasonal'])\n",
    "val_p"
   ]
  },
  {
   "cell_type": "markdown",
   "metadata": {},
   "source": [
    "Del array que obtuvimos, podemos observar el valor 0.69 pertenece a nuestro P-Value. Al tener un superior a 0.05 este nos indica que **no se trata de una variable estacionaria** porque tenemos un número superior al indicado.\n",
    "\n",
    "Para calibrarlo con el modelo ARIMA-SARIMA y teniendo en cuenta el valor, podemos usar los valores ARIMA 0 y SARIMA 1. Es decir, D será 1 y d será de 0. Esto es porque contamos con que NO tenemos una time-series seasonal y la otra es porque debemos calcular el porcentaje de cambio anual.   \n",
    "\n",
    "Así es como podremos obtener una mejor predicción."
   ]
  },
  {
   "cell_type": "code",
   "execution_count": 12,
   "metadata": {},
   "outputs": [
    {
     "data": {
      "text/plain": [
       "(-3.8809142847110234,\n",
       " 0.0021798847419226275,\n",
       " 17,\n",
       " 327,\n",
       " {'1%': -3.45050711373316,\n",
       "  '5%': -2.8704195794076743,\n",
       "  '10%': -2.571500856923753},\n",
       " -1456.978113477237)"
      ]
     },
     "execution_count": 12,
     "metadata": {},
     "output_type": "execute_result"
    }
   ],
   "source": [
    "# Haremos un shift time anual para ver qué sucede\n",
    "df_sns['seasonal'] = np.log(df['Valor']) - np.log(df['Valor']).shift(12)\n",
    "df_sns = df_sns.dropna()\n",
    "df_sns = df_sns.reset_index()\n",
    "df_sns = df_sns.drop(columns=['index'])\n",
    "\n",
    "# Ahora obtenemos el nuevo P value\n",
    "val_p2 = adfuller(df_sns['seasonal'])\n",
    "val_p2"
   ]
  },
  {
   "cell_type": "markdown",
   "metadata": {},
   "source": [
    "Ahora nuestro P value tiene un valor de 0.002, es mucho menos del 0.05 que se establece como nuestro indicador de si es o no es una variable estacionaria. Quiere decir que con los valores de D 1 y d 0 podremos usar los datos ya de forma estacionaria."
   ]
  },
  {
   "cell_type": "markdown",
   "metadata": {},
   "source": [
    "2. Calibra un modelo ARIMA-SARIMA basado en pruebas y gráficos de autocorrelaciones. Explica claramente el proceso de calibración y la razón de cómo va modificando los parámetros."
   ]
  },
  {
   "cell_type": "markdown",
   "metadata": {},
   "source": [
    "Para esta parte, lo que haremos es graficar una autocorrelación para encontrar una posible relación de la variable con los valores utilizando lags, en este caso 12."
   ]
  },
  {
   "cell_type": "code",
   "execution_count": 13,
   "metadata": {},
   "outputs": [
    {
     "data": {
      "image/png": "[encoded data removed]",
      "text/plain": [
       "<Figure size 432x288 with 1 Axes>"
      ]
     },
     "metadata": {
      "needs_background": "light"
     },
     "output_type": "display_data"
    }
   ],
   "source": [
    "plot_acf(df_sns['seasonal'], lags=12)\n",
    "plt.show()"
   ]
  },
  {
   "cell_type": "code",
   "execution_count": 14,
   "metadata": {},
   "outputs": [
    {
     "data": {
      "image/png": "[encoded data removed]",
      "text/plain": [
       "<Figure size 432x288 with 1 Axes>"
      ]
     },
     "metadata": {
      "needs_background": "light"
     },
     "output_type": "display_data"
    }
   ],
   "source": [
    "plot_pacf(df_sns['seasonal'], lags=12)\n",
    "plt.show()"
   ]
  },
  {
   "cell_type": "markdown",
   "metadata": {},
   "source": [
    "Analizando lo que obtuvimos en las gráficas de autocorrelaciones, se ve una especie de patrón. En el gráfico de correlación podemos ver que hay una tendencia a que los valores bajen. En la autocorrelación parcial podemos ver que los primeros dos lags tienen una alta correlación, las demás son muy bajas.\n",
    "\n",
    "Para esto, lo mejor será tomar los siguientes valores:   \n",
    "``p=1``   \n",
    "``q=0``"
   ]
  },
  {
   "cell_type": "markdown",
   "metadata": {},
   "source": [
    "**Creando un modelo para SARIMA**\n",
    "Con los valores que mencionamos anteriormente en base a lo que obtuvimos y que dije que quizá podrían ser lo mejor, armaremos nuestro modelo SARIMA a continuación."
   ]
  },
  {
   "cell_type": "code",
   "execution_count": 15,
   "metadata": {},
   "outputs": [],
   "source": [
    "# Definimos d, D, p, P, q y Q\n",
    "d = 0; D = 1; P = 0; p = 1; q = 0; Q = 0"
   ]
  },
  {
   "cell_type": "code",
   "execution_count": 16,
   "metadata": {},
   "outputs": [
    {
     "data": {
      "text/html": [
       "<table class=\"simpletable\">\n",
       "<caption>SARIMAX Results</caption>\n",
       "<tr>\n",
       "  <th>Dep. Variable:</th>            <td>DS12.seasonal</td>         <th>  No. Observations:  </th>    <td>333</td>   \n",
       "</tr>\n",
       "<tr>\n",
       "  <th>Model:</th>           <td>SARIMAX(1, 0, 0)x(0, 0, 0, 12)</td> <th>  Log Likelihood     </th>  <td>554.265</td> \n",
       "</tr>\n",
       "<tr>\n",
       "  <th>Date:</th>                   <td>Mon, 28 Nov 2022</td>        <th>  AIC                </th> <td>-1102.529</td>\n",
       "</tr>\n",
       "<tr>\n",
       "  <th>Time:</th>                       <td>01:56:35</td>            <th>  BIC                </th> <td>-1091.105</td>\n",
       "</tr>\n",
       "<tr>\n",
       "  <th>Sample:</th>                         <td>0</td>               <th>  HQIC               </th> <td>-1097.974</td>\n",
       "</tr>\n",
       "<tr>\n",
       "  <th></th>                             <td> - 333</td>             <th>                     </th>     <td> </td>    \n",
       "</tr>\n",
       "<tr>\n",
       "  <th>Covariance Type:</th>               <td>opg</td>              <th>                     </th>     <td> </td>    \n",
       "</tr>\n",
       "</table>\n",
       "<table class=\"simpletable\">\n",
       "<tr>\n",
       "      <td></td>         <th>coef</th>     <th>std err</th>      <th>z</th>      <th>P>|z|</th>  <th>[0.025</th>    <th>0.975]</th>  \n",
       "</tr>\n",
       "<tr>\n",
       "  <th>intercept</th> <td>   -0.0001</td> <td>    0.003</td> <td>   -0.055</td> <td> 0.956</td> <td>   -0.005</td> <td>    0.005</td>\n",
       "</tr>\n",
       "<tr>\n",
       "  <th>ar.L1</th>     <td>    0.7665</td> <td>    0.022</td> <td>   35.231</td> <td> 0.000</td> <td>    0.724</td> <td>    0.809</td>\n",
       "</tr>\n",
       "<tr>\n",
       "  <th>sigma2</th>    <td>    0.0021</td> <td> 5.57e-05</td> <td>   37.582</td> <td> 0.000</td> <td>    0.002</td> <td>    0.002</td>\n",
       "</tr>\n",
       "</table>\n",
       "<table class=\"simpletable\">\n",
       "<tr>\n",
       "  <th>Ljung-Box (L1) (Q):</th>     <td>0.03</td> <th>  Jarque-Bera (JB):  </th> <td>4377.09</td>\n",
       "</tr>\n",
       "<tr>\n",
       "  <th>Prob(Q):</th>                <td>0.86</td> <th>  Prob(JB):          </th>  <td>0.00</td>  \n",
       "</tr>\n",
       "<tr>\n",
       "  <th>Heteroskedasticity (H):</th> <td>2.34</td> <th>  Skew:              </th>  <td>1.50</td>  \n",
       "</tr>\n",
       "<tr>\n",
       "  <th>Prob(H) (two-sided):</th>    <td>0.00</td> <th>  Kurtosis:          </th>  <td>20.51</td> \n",
       "</tr>\n",
       "</table><br/><br/>Warnings:<br/>[1] Covariance matrix calculated using the outer product of gradients (complex-step)."
      ],
      "text/plain": [
       "<class 'statsmodels.iolib.summary.Summary'>\n",
       "\"\"\"\n",
       "                                     SARIMAX Results                                      \n",
       "==========================================================================================\n",
       "Dep. Variable:                      DS12.seasonal   No. Observations:                  333\n",
       "Model:             SARIMAX(1, 0, 0)x(0, 0, 0, 12)   Log Likelihood                 554.265\n",
       "Date:                            Mon, 28 Nov 2022   AIC                          -1102.529\n",
       "Time:                                    01:56:35   BIC                          -1091.105\n",
       "Sample:                                         0   HQIC                         -1097.974\n",
       "                                            - 333                                         \n",
       "Covariance Type:                              opg                                         \n",
       "==============================================================================\n",
       "                 coef    std err          z      P>|z|      [0.025      0.975]\n",
       "------------------------------------------------------------------------------\n",
       "intercept     -0.0001      0.003     -0.055      0.956      -0.005       0.005\n",
       "ar.L1          0.7665      0.022     35.231      0.000       0.724       0.809\n",
       "sigma2         0.0021   5.57e-05     37.582      0.000       0.002       0.002\n",
       "===================================================================================\n",
       "Ljung-Box (L1) (Q):                   0.03   Jarque-Bera (JB):              4377.09\n",
       "Prob(Q):                              0.86   Prob(JB):                         0.00\n",
       "Heteroskedasticity (H):               2.34   Skew:                             1.50\n",
       "Prob(H) (two-sided):                  0.00   Kurtosis:                        20.51\n",
       "===================================================================================\n",
       "\n",
       "Warnings:\n",
       "[1] Covariance matrix calculated using the outer product of gradients (complex-step).\n",
       "\"\"\""
      ]
     },
     "execution_count": 16,
     "metadata": {},
     "output_type": "execute_result"
    }
   ],
   "source": [
    "# Armamos nuestro modelo \n",
    "model = sm.tsa.statespace.SARIMAX(\n",
    "                                df_sns['seasonal'], \n",
    "                                order=(p, d, q), \n",
    "                                seasonal_order = (P, D, Q, 12), \n",
    "                                trend='c',  \n",
    "                                simple_differencing=True\n",
    "                                )\n",
    "model.fit().summary()"
   ]
  },
  {
   "cell_type": "markdown",
   "metadata": {},
   "source": [
    "3. Interpreta los coeficientes y su significancia estadística del modelo calibrado"
   ]
  },
  {
   "cell_type": "markdown",
   "metadata": {},
   "source": [
    "A partir de lo que obtuvimos con ese modelo, parece ser que el la actividad económica mexicana tiende a ser positiva a pesar de las observaciones que hice al inicio del documento. De hecho tiene una significancia de 76%.\n",
    "\n",
    "Al extraer los datos del modelo (intercept, ar.L1 y sigma2), podemos ver que queda como...   \n",
    "``y = -0.0001 + 0.7665 + 0.0021``\n",
    "\n",
    "Ahora, veremos si el modelo requiere de alguna calibración, así que vamos a checar los residuios. Esto nos va a permitir el conocer si existe white noise, es decir, valores que no representan algún tipo de correlación. "
   ]
  },
  {
   "cell_type": "code",
   "execution_count": 17,
   "metadata": {},
   "outputs": [
    {
     "data": {
      "image/png": "[encoded data removed]",
      "text/plain": [
       "<Figure size 432x288 with 1 Axes>"
      ]
     },
     "metadata": {
      "needs_background": "light"
     },
     "output_type": "display_data"
    }
   ],
   "source": [
    "# Creamos un gráfico de Autocorrelación residual\n",
    "plot_acf(model.fit().resid, lags=12)\n",
    "plt.show()"
   ]
  },
  {
   "cell_type": "code",
   "execution_count": 18,
   "metadata": {},
   "outputs": [
    {
     "data": {
      "image/png": "[encoded data removed]",
      "text/plain": [
       "<Figure size 432x288 with 1 Axes>"
      ]
     },
     "metadata": {
      "needs_background": "light"
     },
     "output_type": "display_data"
    }
   ],
   "source": [
    "# Creamos un gráfico de Autocorrelación Parcial residual\n",
    "plot_acf(model.fit().resid, lags=12)\n",
    "plt.show()"
   ]
  },
  {
   "cell_type": "markdown",
   "metadata": {},
   "source": [
    "Ahora que tenemos estos dos gráficos nuevos, podemos ver que hay una correlación alta ahora en el LAG 12. Todavía no encontramos algún indicio de que tengamos ruido blanco. Vamos a ver lo que sucede cuando cambiemos nuestro modelo a ver si sale algo.   \n",
    "\n",
    "Probaré con cambiar el valor de Q de 0 a 1.\n"
   ]
  },
  {
   "cell_type": "code",
   "execution_count": 19,
   "metadata": {},
   "outputs": [],
   "source": [
    "# Re-definimos d, D, p, P, q y Q\n",
    "d = 0; D = 1; P = 0; p = 1; q = 0; Q = 1"
   ]
  },
  {
   "cell_type": "code",
   "execution_count": 20,
   "metadata": {},
   "outputs": [
    {
     "data": {
      "text/html": [
       "<table class=\"simpletable\">\n",
       "<caption>SARIMAX Results</caption>\n",
       "<tr>\n",
       "  <th>Dep. Variable:</th>             <td>DS12.seasonal</td>          <th>  No. Observations:  </th>    <td>333</td>   \n",
       "</tr>\n",
       "<tr>\n",
       "  <th>Model:</th>           <td>SARIMAX(1, 0, 0)x(0, 0, [1], 12)</td> <th>  Log Likelihood     </th>  <td>695.510</td> \n",
       "</tr>\n",
       "<tr>\n",
       "  <th>Date:</th>                    <td>Mon, 28 Nov 2022</td>         <th>  AIC                </th> <td>-1383.019</td>\n",
       "</tr>\n",
       "<tr>\n",
       "  <th>Time:</th>                        <td>01:56:38</td>             <th>  BIC                </th> <td>-1367.787</td>\n",
       "</tr>\n",
       "<tr>\n",
       "  <th>Sample:</th>                          <td>0</td>                <th>  HQIC               </th> <td>-1376.945</td>\n",
       "</tr>\n",
       "<tr>\n",
       "  <th></th>                              <td> - 333</td>              <th>                     </th>     <td> </td>    \n",
       "</tr>\n",
       "<tr>\n",
       "  <th>Covariance Type:</th>                <td>opg</td>               <th>                     </th>     <td> </td>    \n",
       "</tr>\n",
       "</table>\n",
       "<table class=\"simpletable\">\n",
       "<tr>\n",
       "      <td></td>         <th>coef</th>     <th>std err</th>      <th>z</th>      <th>P>|z|</th>  <th>[0.025</th>    <th>0.975]</th>  \n",
       "</tr>\n",
       "<tr>\n",
       "  <th>intercept</th> <td>   -0.0002</td> <td>    0.000</td> <td>   -0.769</td> <td> 0.442</td> <td>   -0.001</td> <td>    0.000</td>\n",
       "</tr>\n",
       "<tr>\n",
       "  <th>ar.L1</th>     <td>    0.7688</td> <td>    0.023</td> <td>   33.433</td> <td> 0.000</td> <td>    0.724</td> <td>    0.814</td>\n",
       "</tr>\n",
       "<tr>\n",
       "  <th>ma.S.L12</th>  <td>   -0.9739</td> <td>    0.082</td> <td>  -11.871</td> <td> 0.000</td> <td>   -1.135</td> <td>   -0.813</td>\n",
       "</tr>\n",
       "<tr>\n",
       "  <th>sigma2</th>    <td>    0.0008</td> <td> 7.03e-05</td> <td>   11.550</td> <td> 0.000</td> <td>    0.001</td> <td>    0.001</td>\n",
       "</tr>\n",
       "</table>\n",
       "<table class=\"simpletable\">\n",
       "<tr>\n",
       "  <th>Ljung-Box (L1) (Q):</th>     <td>0.12</td> <th>  Jarque-Bera (JB):  </th> <td>2712.49</td>\n",
       "</tr>\n",
       "<tr>\n",
       "  <th>Prob(Q):</th>                <td>0.73</td> <th>  Prob(JB):          </th>  <td>0.00</td>  \n",
       "</tr>\n",
       "<tr>\n",
       "  <th>Heteroskedasticity (H):</th> <td>2.04</td> <th>  Skew:              </th>  <td>-0.30</td> \n",
       "</tr>\n",
       "<tr>\n",
       "  <th>Prob(H) (two-sided):</th>    <td>0.00</td> <th>  Kurtosis:          </th>  <td>16.97</td> \n",
       "</tr>\n",
       "</table><br/><br/>Warnings:<br/>[1] Covariance matrix calculated using the outer product of gradients (complex-step)."
      ],
      "text/plain": [
       "<class 'statsmodels.iolib.summary.Summary'>\n",
       "\"\"\"\n",
       "                                      SARIMAX Results                                       \n",
       "============================================================================================\n",
       "Dep. Variable:                        DS12.seasonal   No. Observations:                  333\n",
       "Model:             SARIMAX(1, 0, 0)x(0, 0, [1], 12)   Log Likelihood                 695.510\n",
       "Date:                              Mon, 28 Nov 2022   AIC                          -1383.019\n",
       "Time:                                      01:56:38   BIC                          -1367.787\n",
       "Sample:                                           0   HQIC                         -1376.945\n",
       "                                              - 333                                         \n",
       "Covariance Type:                                opg                                         \n",
       "==============================================================================\n",
       "                 coef    std err          z      P>|z|      [0.025      0.975]\n",
       "------------------------------------------------------------------------------\n",
       "intercept     -0.0002      0.000     -0.769      0.442      -0.001       0.000\n",
       "ar.L1          0.7688      0.023     33.433      0.000       0.724       0.814\n",
       "ma.S.L12      -0.9739      0.082    -11.871      0.000      -1.135      -0.813\n",
       "sigma2         0.0008   7.03e-05     11.550      0.000       0.001       0.001\n",
       "===================================================================================\n",
       "Ljung-Box (L1) (Q):                   0.12   Jarque-Bera (JB):              2712.49\n",
       "Prob(Q):                              0.73   Prob(JB):                         0.00\n",
       "Heteroskedasticity (H):               2.04   Skew:                            -0.30\n",
       "Prob(H) (two-sided):                  0.00   Kurtosis:                        16.97\n",
       "===================================================================================\n",
       "\n",
       "Warnings:\n",
       "[1] Covariance matrix calculated using the outer product of gradients (complex-step).\n",
       "\"\"\""
      ]
     },
     "execution_count": 20,
     "metadata": {},
     "output_type": "execute_result"
    }
   ],
   "source": [
    "# Armamos nuestro modelo \n",
    "model2 = sm.tsa.statespace.SARIMAX(\n",
    "                                df_sns['seasonal'], \n",
    "                                order=(p, d, q), \n",
    "                                seasonal_order = (P, D, Q, 12), \n",
    "                                trend='c',  \n",
    "                                simple_differencing=True\n",
    "                                )\n",
    "model2.fit().summary()"
   ]
  },
  {
   "cell_type": "markdown",
   "metadata": {},
   "source": [
    "Ahora veamos qué es lo que cambió graficando otra vez la autocorrelación y autocorrelación parcial."
   ]
  },
  {
   "cell_type": "code",
   "execution_count": 21,
   "metadata": {},
   "outputs": [
    {
     "data": {
      "image/png": "[encoded data removed]",
      "text/plain": [
       "<Figure size 432x288 with 1 Axes>"
      ]
     },
     "metadata": {
      "needs_background": "light"
     },
     "output_type": "display_data"
    }
   ],
   "source": [
    "# Creamos un gráfico de Autocorrelación residual\n",
    "plot_acf(model2.fit().resid, lags=12)\n",
    "plt.show()"
   ]
  },
  {
   "cell_type": "code",
   "execution_count": 22,
   "metadata": {},
   "outputs": [
    {
     "data": {
      "image/png": "[encoded data removed]",
      "text/plain": [
       "<Figure size 432x288 with 1 Axes>"
      ]
     },
     "metadata": {
      "needs_background": "light"
     },
     "output_type": "display_data"
    }
   ],
   "source": [
    "# Creamos un gráfico de Autocorrelación Parcial residual\n",
    "plot_acf(model2.fit().resid, lags=12)\n",
    "plt.show()"
   ]
  },
  {
   "cell_type": "markdown",
   "metadata": {},
   "source": [
    "Ahora podemos observar que nuestro LAG 12 tuvo un decremento, los residuos en general tuvieron mejoras pero parece que todavía podemos continuar mejorando nuestro modelo para realizar una mejor predicción. \n",
    "\n",
    "Lo que pienso es que modificando P y q podrían ayudar en hacer que el lag 12 tenga un decremento y que podamos hacer que se conviertan en white noise.\n",
    "\n",
    "Veamos qué sucede."
   ]
  },
  {
   "cell_type": "code",
   "execution_count": 23,
   "metadata": {},
   "outputs": [],
   "source": [
    "# Re-re-definimos d, D, p, P, q y Q\n",
    "d = 0; D = 1; P = 1; p = 1; q = 1; Q = 1"
   ]
  },
  {
   "cell_type": "code",
   "execution_count": 24,
   "metadata": {},
   "outputs": [
    {
     "data": {
      "text/html": [
       "<table class=\"simpletable\">\n",
       "<caption>SARIMAX Results</caption>\n",
       "<tr>\n",
       "  <th>Dep. Variable:</th>            <td>DS12.seasonal</td>         <th>  No. Observations:  </th>    <td>333</td>   \n",
       "</tr>\n",
       "<tr>\n",
       "  <th>Model:</th>           <td>SARIMAX(1, 0, 1)x(1, 0, 1, 12)</td> <th>  Log Likelihood     </th>  <td>708.357</td> \n",
       "</tr>\n",
       "<tr>\n",
       "  <th>Date:</th>                   <td>Mon, 28 Nov 2022</td>        <th>  AIC                </th> <td>-1404.714</td>\n",
       "</tr>\n",
       "<tr>\n",
       "  <th>Time:</th>                       <td>01:56:43</td>            <th>  BIC                </th> <td>-1381.865</td>\n",
       "</tr>\n",
       "<tr>\n",
       "  <th>Sample:</th>                         <td>0</td>               <th>  HQIC               </th> <td>-1395.603</td>\n",
       "</tr>\n",
       "<tr>\n",
       "  <th></th>                             <td> - 333</td>             <th>                     </th>     <td> </td>    \n",
       "</tr>\n",
       "<tr>\n",
       "  <th>Covariance Type:</th>               <td>opg</td>              <th>                     </th>     <td> </td>    \n",
       "</tr>\n",
       "</table>\n",
       "<table class=\"simpletable\">\n",
       "<tr>\n",
       "      <td></td>         <th>coef</th>     <th>std err</th>      <th>z</th>      <th>P>|z|</th>  <th>[0.025</th>    <th>0.975]</th>  \n",
       "</tr>\n",
       "<tr>\n",
       "  <th>intercept</th> <td>   -0.0001</td> <td>    0.000</td> <td>   -0.571</td> <td> 0.568</td> <td>   -0.001</td> <td>    0.000</td>\n",
       "</tr>\n",
       "<tr>\n",
       "  <th>ar.L1</th>     <td>    0.8373</td> <td>    0.036</td> <td>   23.255</td> <td> 0.000</td> <td>    0.767</td> <td>    0.908</td>\n",
       "</tr>\n",
       "<tr>\n",
       "  <th>ma.L1</th>     <td>   -0.0975</td> <td>    0.051</td> <td>   -1.923</td> <td> 0.054</td> <td>   -0.197</td> <td>    0.002</td>\n",
       "</tr>\n",
       "<tr>\n",
       "  <th>ar.S.L12</th>  <td>   -0.2187</td> <td>    0.047</td> <td>   -4.676</td> <td> 0.000</td> <td>   -0.310</td> <td>   -0.127</td>\n",
       "</tr>\n",
       "<tr>\n",
       "  <th>ma.S.L12</th>  <td>   -0.9170</td> <td>    0.066</td> <td>  -13.998</td> <td> 0.000</td> <td>   -1.045</td> <td>   -0.789</td>\n",
       "</tr>\n",
       "<tr>\n",
       "  <th>sigma2</th>    <td>    0.0008</td> <td> 3.49e-05</td> <td>   21.900</td> <td> 0.000</td> <td>    0.001</td> <td>    0.001</td>\n",
       "</tr>\n",
       "</table>\n",
       "<table class=\"simpletable\">\n",
       "<tr>\n",
       "  <th>Ljung-Box (L1) (Q):</th>     <td>0.07</td> <th>  Jarque-Bera (JB):  </th> <td>2554.29</td>\n",
       "</tr>\n",
       "<tr>\n",
       "  <th>Prob(Q):</th>                <td>0.80</td> <th>  Prob(JB):          </th>  <td>0.00</td>  \n",
       "</tr>\n",
       "<tr>\n",
       "  <th>Heteroskedasticity (H):</th> <td>2.15</td> <th>  Skew:              </th>  <td>-0.71</td> \n",
       "</tr>\n",
       "<tr>\n",
       "  <th>Prob(H) (two-sided):</th>    <td>0.00</td> <th>  Kurtosis:          </th>  <td>16.49</td> \n",
       "</tr>\n",
       "</table><br/><br/>Warnings:<br/>[1] Covariance matrix calculated using the outer product of gradients (complex-step)."
      ],
      "text/plain": [
       "<class 'statsmodels.iolib.summary.Summary'>\n",
       "\"\"\"\n",
       "                                     SARIMAX Results                                      \n",
       "==========================================================================================\n",
       "Dep. Variable:                      DS12.seasonal   No. Observations:                  333\n",
       "Model:             SARIMAX(1, 0, 1)x(1, 0, 1, 12)   Log Likelihood                 708.357\n",
       "Date:                            Mon, 28 Nov 2022   AIC                          -1404.714\n",
       "Time:                                    01:56:43   BIC                          -1381.865\n",
       "Sample:                                         0   HQIC                         -1395.603\n",
       "                                            - 333                                         \n",
       "Covariance Type:                              opg                                         \n",
       "==============================================================================\n",
       "                 coef    std err          z      P>|z|      [0.025      0.975]\n",
       "------------------------------------------------------------------------------\n",
       "intercept     -0.0001      0.000     -0.571      0.568      -0.001       0.000\n",
       "ar.L1          0.8373      0.036     23.255      0.000       0.767       0.908\n",
       "ma.L1         -0.0975      0.051     -1.923      0.054      -0.197       0.002\n",
       "ar.S.L12      -0.2187      0.047     -4.676      0.000      -0.310      -0.127\n",
       "ma.S.L12      -0.9170      0.066    -13.998      0.000      -1.045      -0.789\n",
       "sigma2         0.0008   3.49e-05     21.900      0.000       0.001       0.001\n",
       "===================================================================================\n",
       "Ljung-Box (L1) (Q):                   0.07   Jarque-Bera (JB):              2554.29\n",
       "Prob(Q):                              0.80   Prob(JB):                         0.00\n",
       "Heteroskedasticity (H):               2.15   Skew:                            -0.71\n",
       "Prob(H) (two-sided):                  0.00   Kurtosis:                        16.49\n",
       "===================================================================================\n",
       "\n",
       "Warnings:\n",
       "[1] Covariance matrix calculated using the outer product of gradients (complex-step).\n",
       "\"\"\""
      ]
     },
     "execution_count": 24,
     "metadata": {},
     "output_type": "execute_result"
    }
   ],
   "source": [
    "# Armamos nuestro modelo \n",
    "model3 = sm.tsa.statespace.SARIMAX(\n",
    "                                df_sns['seasonal'], \n",
    "                                order=(p, d, q), \n",
    "                                seasonal_order = (P, D, Q, 12), \n",
    "                                trend='c',  \n",
    "                                simple_differencing=True\n",
    "                                )\n",
    "model3.fit().summary()"
   ]
  },
  {
   "cell_type": "markdown",
   "metadata": {},
   "source": [
    "Ahora veamos qué es lo que cambió graficando otra vez la autocorrelación y autocorrelación parcial."
   ]
  },
  {
   "cell_type": "code",
   "execution_count": 25,
   "metadata": {},
   "outputs": [
    {
     "data": {
      "image/png": "[encoded data removed]",
      "text/plain": [
       "<Figure size 432x288 with 1 Axes>"
      ]
     },
     "metadata": {
      "needs_background": "light"
     },
     "output_type": "display_data"
    }
   ],
   "source": [
    "# Creamos un gráfico de Autocorrelación residual\n",
    "plot_acf(model3.fit().resid, lags=12)\n",
    "plt.show()"
   ]
  },
  {
   "cell_type": "code",
   "execution_count": 26,
   "metadata": {},
   "outputs": [
    {
     "data": {
      "image/png": "[encoded data removed]",
      "text/plain": [
       "<Figure size 432x288 with 1 Axes>"
      ]
     },
     "metadata": {
      "needs_background": "light"
     },
     "output_type": "display_data"
    }
   ],
   "source": [
    "# Creamos un gráfico de Autocorrelación Parcial residual\n",
    "plot_acf(model3.fit().resid, lags=12)\n",
    "plt.show()"
   ]
  },
  {
   "cell_type": "markdown",
   "metadata": {},
   "source": [
    "Ahora, visualmente podemos observar que los LAGS ya son más lo que estábamos buscando a ese ruido blanco, también podemos apreciar que el LAG 12 está más acercado a 0 con los demás y el primero se mantiene igual.   "
   ]
  },
  {
   "cell_type": "markdown",
   "metadata": {},
   "source": [
    "Ahora pasemos con la verdera **interpretación de coeficientes**:   \n",
    "\n",
    "En nuestra actividad económica mexicana, podemos observar que el índice global es positivo. Eso no cambió desde el primer modelo generado.   \n",
    "\n",
    "De acuerdo a la información del summary del último modelo que tomamos hay varias cosas que sí cambiaron, por ejemplo, podemos ver que el LAG 1 representa 83.73% de crecimiento. Antes era de 76%.   \n",
    "\n",
    "Por otro lado podemos ver que el -21.87% perteneciente a dos meses atrás, va hacia el crecimiento anual. Antes este era de -97%.\n",
    "\n",
    "En general esto representan relaciones positivas y más significancia, pues el P value sigue siendo menor al margen de 0.05. (0.045)   \n",
    "\n",
    "En el lag 12 podemos observar que todavía está presenta una magnitud negativa, pero es mejor que antes. Su p value también es menor a 0.05. (0.000)   \n",
    "\n",
    "Con todo esto en cuenta, se ha relizado lo posible para tener lo más que se puede de ruido blanco en los datos, con este modelo ahora realizaremos las predicciones hasta septiembre del 2024."
   ]
  },
  {
   "cell_type": "markdown",
   "metadata": {},
   "source": [
    "4. Realiza una predicción de la variable utilizando el modelo calibrado."
   ]
  },
  {
   "cell_type": "code",
   "execution_count": 27,
   "metadata": {},
   "outputs": [],
   "source": [
    "# Agarramos el modelo que ya teníamos y generamos las predicciones\n",
    "model_fit = model3.fit()\n",
    "prediction = np.asarray((model_fit.forecast(steps=24)))"
   ]
  },
  {
   "cell_type": "markdown",
   "metadata": {},
   "source": [
    "Al final hasta aquí alcancé a terminar. :(   "
   ]
  }
 ],
 "metadata": {
  "kernelspec": {
   "display_name": "Python 3.10.3 64-bit",
   "language": "python",
   "name": "python3"
  },
  "language_info": {
   "codemirror_mode": {
    "name": "ipython",
    "version": 3
   },
   "file_extension": ".py",
   "mimetype": "text/x-python",
   "name": "python",
   "nbconvert_exporter": "python",
   "pygments_lexer": "ipython3",
   "version": "3.10.3"
  },
  "orig_nbformat": 4,
  "vscode": {
   "interpreter": {
    "hash": "c47c896eb7d247e37b2e85063757fb1d5709b8397f6f1d76972efaa0b0675ad6"
   }
  }
 },
 "nbformat": 4,
 "nbformat_minor": 2
}
