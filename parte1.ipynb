{
 "cells": [
  {
   "cell_type": "markdown",
   "metadata": {},
   "source": [
    "## Entregable 1: \n",
    "### Preprocesamiento de datos multivariados o de una serie temporal\n",
    "#### Manolo Ramírez Pintor - A01706155"
   ]
  },
  {
   "cell_type": "markdown",
   "metadata": {},
   "source": [
    "1. #### Realiza un análisis exploratorio de las variables:"
   ]
  },
  {
   "cell_type": "markdown",
   "metadata": {
    "id": "3ywgW5ewJ5EW"
   },
   "source": [
    "*   * **Seleccion y limpieza de datos**"
   ]
  },
  {
   "cell_type": "code",
   "execution_count": 1,
   "metadata": {
    "id": "z7wfh99N2nQF"
   },
   "outputs": [],
   "source": [
    "# Importamos las librerías necesarias para trabajar:\n",
    "import pandas as pd\n",
    "import numpy as np\n",
    "pd.options.mode.chained_assignment = None  # default='warn'"
   ]
  },
  {
   "cell_type": "code",
   "execution_count": 2,
   "metadata": {
    "id": "1jrVbKay2oaW"
   },
   "outputs": [],
   "source": [
    "# Leemmos los datasets y quitamos columnas que no necesitamos\n",
    "us2022 = pd.read_csv('datasets/us2022q2a.csv')\n",
    "usfirms = pd.read_csv('datasets/usfirms2022.csv')\n",
    "us_merged = us2022.merge(usfirms, left_on='firm', right_on='Ticker')"
   ]
  },
  {
   "cell_type": "code",
   "execution_count": 3,
   "metadata": {
    "id": "20NJAwhkWDja"
   },
   "outputs": [],
   "source": [
    "# Selecciono únicamente los sectores Retail Trade y Wholesale Trade\n",
    "us_merged = us_merged.loc[us_merged['Sector NAICS\\nlevel 1'].isin(['Retail Trade', 'Wholesale Trade'])]\n",
    "# us_merged"
   ]
  },
  {
   "cell_type": "code",
   "execution_count": 4,
   "metadata": {
    "id": "i7M0Yv1C37gm"
   },
   "outputs": [],
   "source": [
    "us_merged['R'] = np.log(us_merged.groupby(['firm'])['adjprice'].shift(-1)) - np.log(us_merged.groupby(['firm'])['adjprice'].shift(3))"
   ]
  },
  {
   "cell_type": "code",
   "execution_count": 5,
   "metadata": {
    "id": "eD8cOm_Y21p6"
   },
   "outputs": [],
   "source": [
    "df_masked = us_merged[us_merged['q'] == '2022q1']"
   ]
  },
  {
   "cell_type": "code",
   "execution_count": 6,
   "metadata": {
    "id": "vrC1WgFSWjLE"
   },
   "outputs": [
    {
     "data": {
      "text/html": [
       "<div>\n",
       "<style scoped>\n",
       "    .dataframe tbody tr th:only-of-type {\n",
       "        vertical-align: middle;\n",
       "    }\n",
       "\n",
       "    .dataframe tbody tr th {\n",
       "        vertical-align: top;\n",
       "    }\n",
       "\n",
       "    .dataframe thead th {\n",
       "        text-align: right;\n",
       "    }\n",
       "</style>\n",
       "<table border=\"1\" class=\"dataframe\">\n",
       "  <thead>\n",
       "    <tr style=\"text-align: right;\">\n",
       "      <th></th>\n",
       "      <th>firm</th>\n",
       "      <th>q</th>\n",
       "      <th>revenue</th>\n",
       "      <th>cogs</th>\n",
       "      <th>sgae</th>\n",
       "      <th>otheropexp</th>\n",
       "      <th>finexp</th>\n",
       "      <th>incometax</th>\n",
       "      <th>totalassets</th>\n",
       "      <th>totalliabilities</th>\n",
       "      <th>adjprice</th>\n",
       "      <th>originalprice</th>\n",
       "      <th>sharesoutstanding</th>\n",
       "      <th>Sector NAICS\\nlevel 1</th>\n",
       "      <th>R</th>\n",
       "    </tr>\n",
       "  </thead>\n",
       "  <tbody>\n",
       "    <tr>\n",
       "      <th>718</th>\n",
       "      <td>AAP</td>\n",
       "      <td>2022q1</td>\n",
       "      <td>NaN</td>\n",
       "      <td>NaN</td>\n",
       "      <td>NaN</td>\n",
       "      <td>NaN</td>\n",
       "      <td>NaN</td>\n",
       "      <td>NaN</td>\n",
       "      <td>NaN</td>\n",
       "      <td>NaN</td>\n",
       "      <td>205.158154</td>\n",
       "      <td>206.96</td>\n",
       "      <td>61097.579</td>\n",
       "      <td>Retail Trade</td>\n",
       "      <td>-0.144831</td>\n",
       "    </tr>\n",
       "    <tr>\n",
       "      <th>1168</th>\n",
       "      <td>ABC</td>\n",
       "      <td>2022q1</td>\n",
       "      <td>57719448.0</td>\n",
       "      <td>55484368.0</td>\n",
       "      <td>1378528.0</td>\n",
       "      <td>76395.0</td>\n",
       "      <td>52916.0</td>\n",
       "      <td>172944.0</td>\n",
       "      <td>57308153.0</td>\n",
       "      <td>56402088.0</td>\n",
       "      <td>153.761909</td>\n",
       "      <td>154.71</td>\n",
       "      <td>209137.429</td>\n",
       "      <td>Wholesale Trade</td>\n",
       "      <td>0.225304</td>\n",
       "    </tr>\n",
       "    <tr>\n",
       "      <th>1435</th>\n",
       "      <td>ABG</td>\n",
       "      <td>2022q1</td>\n",
       "      <td>3911800.0</td>\n",
       "      <td>3119800.0</td>\n",
       "      <td>473900.0</td>\n",
       "      <td>-2700.0</td>\n",
       "      <td>40200.0</td>\n",
       "      <td>76000.0</td>\n",
       "      <td>7860100.0</td>\n",
       "      <td>5677600.0</td>\n",
       "      <td>160.200000</td>\n",
       "      <td>160.20</td>\n",
       "      <td>23187.817</td>\n",
       "      <td>Retail Trade</td>\n",
       "      <td>-0.011916</td>\n",
       "    </tr>\n",
       "    <tr>\n",
       "      <th>3142</th>\n",
       "      <td>ACI</td>\n",
       "      <td>2022q1</td>\n",
       "      <td>17383500.0</td>\n",
       "      <td>12399200.0</td>\n",
       "      <td>4321700.0</td>\n",
       "      <td>-1700.0</td>\n",
       "      <td>108000.0</td>\n",
       "      <td>148700.0</td>\n",
       "      <td>28123000.0</td>\n",
       "      <td>25098400.0</td>\n",
       "      <td>32.976197</td>\n",
       "      <td>33.25</td>\n",
       "      <td>483118.147</td>\n",
       "      <td>Retail Trade</td>\n",
       "      <td>0.323732</td>\n",
       "    </tr>\n",
       "    <tr>\n",
       "      <th>5932</th>\n",
       "      <td>AE</td>\n",
       "      <td>2022q1</td>\n",
       "      <td>774245.0</td>\n",
       "      <td>0.0</td>\n",
       "      <td>766097.0</td>\n",
       "      <td>0.0</td>\n",
       "      <td>90.0</td>\n",
       "      <td>1968.0</td>\n",
       "      <td>470117.0</td>\n",
       "      <td>304596.0</td>\n",
       "      <td>38.241532</td>\n",
       "      <td>38.49</td>\n",
       "      <td>4367.866</td>\n",
       "      <td>Wholesale Trade</td>\n",
       "      <td>0.181133</td>\n",
       "    </tr>\n",
       "    <tr>\n",
       "      <th>...</th>\n",
       "      <td>...</td>\n",
       "      <td>...</td>\n",
       "      <td>...</td>\n",
       "      <td>...</td>\n",
       "      <td>...</td>\n",
       "      <td>...</td>\n",
       "      <td>...</td>\n",
       "      <td>...</td>\n",
       "      <td>...</td>\n",
       "      <td>...</td>\n",
       "      <td>...</td>\n",
       "      <td>...</td>\n",
       "      <td>...</td>\n",
       "      <td>...</td>\n",
       "      <td>...</td>\n",
       "    </tr>\n",
       "    <tr>\n",
       "      <th>315984</th>\n",
       "      <td>WSM</td>\n",
       "      <td>2022q1</td>\n",
       "      <td>2501029.0</td>\n",
       "      <td>1375792.0</td>\n",
       "      <td>600665.0</td>\n",
       "      <td>0.0</td>\n",
       "      <td>-89.0</td>\n",
       "      <td>121720.0</td>\n",
       "      <td>4625620.0</td>\n",
       "      <td>2961413.0</td>\n",
       "      <td>143.394496</td>\n",
       "      <td>145.00</td>\n",
       "      <td>71558.874</td>\n",
       "      <td>Retail Trade</td>\n",
       "      <td>-0.346125</td>\n",
       "    </tr>\n",
       "    <tr>\n",
       "      <th>316074</th>\n",
       "      <td>WSO</td>\n",
       "      <td>2022q1</td>\n",
       "      <td>1523570.0</td>\n",
       "      <td>1073212.0</td>\n",
       "      <td>283354.0</td>\n",
       "      <td>-4045.0</td>\n",
       "      <td>558.0</td>\n",
       "      <td>35601.0</td>\n",
       "      <td>3473889.0</td>\n",
       "      <td>1393174.0</td>\n",
       "      <td>299.661871</td>\n",
       "      <td>304.64</td>\n",
       "      <td>38772.956</td>\n",
       "      <td>Wholesale Trade</td>\n",
       "      <td>-0.154603</td>\n",
       "    </tr>\n",
       "    <tr>\n",
       "      <th>316344</th>\n",
       "      <td>WSTG</td>\n",
       "      <td>2022q1</td>\n",
       "      <td>71319.0</td>\n",
       "      <td>59338.0</td>\n",
       "      <td>8606.0</td>\n",
       "      <td>0.0</td>\n",
       "      <td>10.0</td>\n",
       "      <td>796.0</td>\n",
       "      <td>188770.0</td>\n",
       "      <td>134861.0</td>\n",
       "      <td>34.197852</td>\n",
       "      <td>34.55</td>\n",
       "      <td>4450.062</td>\n",
       "      <td>Wholesale Trade</td>\n",
       "      <td>0.304832</td>\n",
       "    </tr>\n",
       "    <tr>\n",
       "      <th>322284</th>\n",
       "      <td>ZEUS</td>\n",
       "      <td>2022q1</td>\n",
       "      <td>696333.0</td>\n",
       "      <td>555107.0</td>\n",
       "      <td>88104.0</td>\n",
       "      <td>0.0</td>\n",
       "      <td>1998.0</td>\n",
       "      <td>13816.0</td>\n",
       "      <td>1043703.0</td>\n",
       "      <td>580917.0</td>\n",
       "      <td>38.364750</td>\n",
       "      <td>38.46</td>\n",
       "      <td>11123.700</td>\n",
       "      <td>Wholesale Trade</td>\n",
       "      <td>-0.124839</td>\n",
       "    </tr>\n",
       "    <tr>\n",
       "      <th>323274</th>\n",
       "      <td>ZUMZ</td>\n",
       "      <td>2022q1</td>\n",
       "      <td>346677.0</td>\n",
       "      <td>212744.0</td>\n",
       "      <td>82198.0</td>\n",
       "      <td>0.0</td>\n",
       "      <td>-759.0</td>\n",
       "      <td>12828.0</td>\n",
       "      <td>862012.0</td>\n",
       "      <td>393694.0</td>\n",
       "      <td>38.210000</td>\n",
       "      <td>38.21</td>\n",
       "      <td>19922.279</td>\n",
       "      <td>Retail Trade</td>\n",
       "      <td>-0.633520</td>\n",
       "    </tr>\n",
       "  </tbody>\n",
       "</table>\n",
       "<p>231 rows × 15 columns</p>\n",
       "</div>"
      ],
      "text/plain": [
       "        firm       q     revenue        cogs       sgae  otheropexp    finexp  \\\n",
       "718      AAP  2022q1         NaN         NaN        NaN         NaN       NaN   \n",
       "1168     ABC  2022q1  57719448.0  55484368.0  1378528.0     76395.0   52916.0   \n",
       "1435     ABG  2022q1   3911800.0   3119800.0   473900.0     -2700.0   40200.0   \n",
       "3142     ACI  2022q1  17383500.0  12399200.0  4321700.0     -1700.0  108000.0   \n",
       "5932      AE  2022q1    774245.0         0.0   766097.0         0.0      90.0   \n",
       "...      ...     ...         ...         ...        ...         ...       ...   \n",
       "315984   WSM  2022q1   2501029.0   1375792.0   600665.0         0.0     -89.0   \n",
       "316074   WSO  2022q1   1523570.0   1073212.0   283354.0     -4045.0     558.0   \n",
       "316344  WSTG  2022q1     71319.0     59338.0     8606.0         0.0      10.0   \n",
       "322284  ZEUS  2022q1    696333.0    555107.0    88104.0         0.0    1998.0   \n",
       "323274  ZUMZ  2022q1    346677.0    212744.0    82198.0         0.0    -759.0   \n",
       "\n",
       "        incometax  totalassets  totalliabilities    adjprice  originalprice  \\\n",
       "718           NaN          NaN               NaN  205.158154         206.96   \n",
       "1168     172944.0   57308153.0        56402088.0  153.761909         154.71   \n",
       "1435      76000.0    7860100.0         5677600.0  160.200000         160.20   \n",
       "3142     148700.0   28123000.0        25098400.0   32.976197          33.25   \n",
       "5932       1968.0     470117.0          304596.0   38.241532          38.49   \n",
       "...           ...          ...               ...         ...            ...   \n",
       "315984   121720.0    4625620.0         2961413.0  143.394496         145.00   \n",
       "316074    35601.0    3473889.0         1393174.0  299.661871         304.64   \n",
       "316344      796.0     188770.0          134861.0   34.197852          34.55   \n",
       "322284    13816.0    1043703.0          580917.0   38.364750          38.46   \n",
       "323274    12828.0     862012.0          393694.0   38.210000          38.21   \n",
       "\n",
       "        sharesoutstanding Sector NAICS\\nlevel 1         R  \n",
       "718             61097.579          Retail Trade -0.144831  \n",
       "1168           209137.429       Wholesale Trade  0.225304  \n",
       "1435            23187.817          Retail Trade -0.011916  \n",
       "3142           483118.147          Retail Trade  0.323732  \n",
       "5932             4367.866       Wholesale Trade  0.181133  \n",
       "...                   ...                   ...       ...  \n",
       "315984          71558.874          Retail Trade -0.346125  \n",
       "316074          38772.956       Wholesale Trade -0.154603  \n",
       "316344           4450.062       Wholesale Trade  0.304832  \n",
       "322284          11123.700       Wholesale Trade -0.124839  \n",
       "323274          19922.279          Retail Trade -0.633520  \n",
       "\n",
       "[231 rows x 15 columns]"
      ]
     },
     "execution_count": 6,
     "metadata": {},
     "output_type": "execute_result"
    }
   ],
   "source": [
    "df_masked = df_masked.drop(['extraincome', 'shortdebt', 'longdebt', 'stockholderequity', \n",
    "                'Ticker', 'Name', 'Class', 'Exchange / Src', 'Sector\\nEconomatica', \n",
    "                'Sector NAICS\\nlast available', 'partind', 'N', 'Country\\nof Origin', \n",
    "                'Type of Asset', 'fiscalmonth', 'year', 'cto'], axis=1)\n",
    "df_masked"
   ]
  },
  {
   "cell_type": "code",
   "execution_count": 7,
   "metadata": {
    "id": "bRF_A4gUUL-N"
   },
   "outputs": [],
   "source": [
    "# Obtenemos calculos de variables en base a las fórmulas que hemos visto anteriormente\n",
    "\n",
    "# Get the Ebit and store it on 'Ebit' var:\n",
    "df_masked['EBIT'] = df_masked['revenue'] - df_masked['cogs'] - df_masked['sgae'] - df_masked['otheropexp']\n",
    "# Get the Net Income and store it on 'Net income' var:\n",
    "df_masked['NetIncome'] = df_masked['EBIT'] - df_masked['incometax'] - df_masked['finexp']\n",
    "# Get the EPS and store it on 'EPS' var:\n",
    "df_masked['EPS'] = df_masked['NetIncome'] / df_masked['sharesoutstanding']\n",
    "\n",
    "# Get Firm sizes and store them on a 'Book value' var:\n",
    "df_masked['Book'] = df_masked['totalassets'] - df_masked['totalliabilities']\n",
    "# Get Market values and store them on a 'Market value' var:\n",
    "df_masked['Market'] = df_masked['originalprice'] * df_masked['sharesoutstanding']\n",
    "# Get Firm sizes ratio (Book to Market ratio) values and store them on a 'Market value' var:\n",
    "df_masked['BTMR'] = df_masked['Book'] / df_masked['Market']\n",
    "\n",
    "# Get EPSP and store it on a 'EPSP' var:\n",
    "df_masked['EPSP'] = df_masked['EPS'] / df_masked['originalprice']\n",
    "# Get the Operating Profit Margin and store it on 'OPM' var:\n",
    "df_masked['OPM'] = df_masked['EBIT'] / df_masked['revenue']"
   ]
  },
  {
   "cell_type": "code",
   "execution_count": 8,
   "metadata": {},
   "outputs": [],
   "source": [
    "# We sort the values for Market Value\n",
    "df_masked = df_masked.sort_values(by = 'Market')\n",
    "# The index is gets resetted \n",
    "df_masked = df_masked.reset_index()\n",
    "df_masked = df_masked.drop(['index'], axis = 1)\n",
    "\n",
    "\n",
    "# We make a new column for small and medium values of our sorted and masked data\n",
    "df_masked[\"small\"] = df_masked.index <= len(df_masked) / 3\n",
    "df_masked[\"small\"] = df_masked[\"small\"].astype(int)\n",
    "\n",
    "df_masked[\"medium\"] = (df_masked.index <= (2 * len (df_masked)/3)) & (df_masked.index > (len(df_masked) / 3))\n",
    "df_masked[\"medium\"] = df_masked[\"medium\"].astype(int)"
   ]
  },
  {
   "cell_type": "code",
   "execution_count": 10,
   "metadata": {},
   "outputs": [],
   "source": [
    "# With a dataset copy, we make a drop of the null values.\n",
    "# A filter or remasking could work but it's the exact same thing at the end.\n",
    "df_process = df_masked[['R', 'EPSP', 'OPM', 'BTMR', 'small', 'medium']]\n",
    "df_process = df_process.dropna()\n",
    "\n",
    "x = df_process[['EPSP', 'OPM', 'BTMR', 'small', 'medium']].to_numpy\n",
    "y = df_process['R'].to_numpy"
   ]
  },
  {
   "cell_type": "markdown",
   "metadata": {},
   "source": [
    "\n",
    "-    - Calcula matriz de varianza y covarianza, así como matriz de correlación de las variables independientes y la dependiente. Explicar qué es la varianza, covarianza y correlación. Interpreta la matriz de correlación. Tiene que utilizar álgebra matricial y corroborar resultados con funciones de Python.\n",
    "\n"
   ]
  },
  {
   "cell_type": "code",
   "execution_count": 19,
   "metadata": {},
   "outputs": [
    {
     "data": {
      "text/html": [
       "<div>\n",
       "<style scoped>\n",
       "    .dataframe tbody tr th:only-of-type {\n",
       "        vertical-align: middle;\n",
       "    }\n",
       "\n",
       "    .dataframe tbody tr th {\n",
       "        vertical-align: top;\n",
       "    }\n",
       "\n",
       "    .dataframe thead th {\n",
       "        text-align: right;\n",
       "    }\n",
       "</style>\n",
       "<table border=\"1\" class=\"dataframe\">\n",
       "  <thead>\n",
       "    <tr style=\"text-align: right;\">\n",
       "      <th></th>\n",
       "      <th>EPSP</th>\n",
       "      <th>OPM</th>\n",
       "      <th>BTMR</th>\n",
       "      <th>small</th>\n",
       "      <th>medium</th>\n",
       "    </tr>\n",
       "  </thead>\n",
       "  <tbody>\n",
       "    <tr>\n",
       "      <th>EPSP</th>\n",
       "      <td>0.010281</td>\n",
       "      <td>0.010747</td>\n",
       "      <td>-0.002510</td>\n",
       "      <td>-0.011957</td>\n",
       "      <td>0.006929</td>\n",
       "    </tr>\n",
       "    <tr>\n",
       "      <th>OPM</th>\n",
       "      <td>0.010747</td>\n",
       "      <td>0.038002</td>\n",
       "      <td>-0.000704</td>\n",
       "      <td>-0.021568</td>\n",
       "      <td>0.005114</td>\n",
       "    </tr>\n",
       "    <tr>\n",
       "      <th>BTMR</th>\n",
       "      <td>-0.002510</td>\n",
       "      <td>-0.000704</td>\n",
       "      <td>0.183353</td>\n",
       "      <td>0.073453</td>\n",
       "      <td>0.005851</td>\n",
       "    </tr>\n",
       "    <tr>\n",
       "      <th>small</th>\n",
       "      <td>-0.011957</td>\n",
       "      <td>-0.021568</td>\n",
       "      <td>0.073453</td>\n",
       "      <td>0.219000</td>\n",
       "      <td>-0.110980</td>\n",
       "    </tr>\n",
       "    <tr>\n",
       "      <th>medium</th>\n",
       "      <td>0.006929</td>\n",
       "      <td>0.005114</td>\n",
       "      <td>0.005851</td>\n",
       "      <td>-0.110980</td>\n",
       "      <td>0.226715</td>\n",
       "    </tr>\n",
       "  </tbody>\n",
       "</table>\n",
       "</div>"
      ],
      "text/plain": [
       "            EPSP       OPM      BTMR     small    medium\n",
       "EPSP    0.010281  0.010747 -0.002510 -0.011957  0.006929\n",
       "OPM     0.010747  0.038002 -0.000704 -0.021568  0.005114\n",
       "BTMR   -0.002510 -0.000704  0.183353  0.073453  0.005851\n",
       "small  -0.011957 -0.021568  0.073453  0.219000 -0.110980\n",
       "medium  0.006929  0.005114  0.005851 -0.110980  0.226715"
      ]
     },
     "execution_count": 19,
     "metadata": {},
     "output_type": "execute_result"
    }
   ],
   "source": [
    "# We calculate que covariance matrix using a manual function:\n",
    "# Refefence: https://docs.google.com/viewer?a=v&pid=sites&srcid=ZWdhZGVyemMubmV0fGZ6MzAzMHxneDozOTI1ODBmMGU2YTMzZGM1 last page and formula.\n",
    "def covar_x(x):\n",
    "    N = len(x)\n",
    "    one = np.ones((N,1))\n",
    "    X_1 = x.T @ x\n",
    "    X_2 = x.T @ one\n",
    "    X_3 = X_2.T\n",
    "    varcov = (X_1 - (1/N) * (X_2 @ X_3)) / (N - 1)\n",
    "    return varcov\n",
    "\n",
    "covar_x(x)"
   ]
  },
  {
   "cell_type": "code",
   "execution_count": 16,
   "metadata": {},
   "outputs": [
    {
     "data": {
      "text/html": [
       "<div>\n",
       "<style scoped>\n",
       "    .dataframe tbody tr th:only-of-type {\n",
       "        vertical-align: middle;\n",
       "    }\n",
       "\n",
       "    .dataframe tbody tr th {\n",
       "        vertical-align: top;\n",
       "    }\n",
       "\n",
       "    .dataframe thead th {\n",
       "        text-align: right;\n",
       "    }\n",
       "</style>\n",
       "<table border=\"1\" class=\"dataframe\">\n",
       "  <thead>\n",
       "    <tr style=\"text-align: right;\">\n",
       "      <th></th>\n",
       "      <th>EPSP</th>\n",
       "      <th>OPM</th>\n",
       "      <th>BTMR</th>\n",
       "      <th>small</th>\n",
       "      <th>medium</th>\n",
       "    </tr>\n",
       "  </thead>\n",
       "  <tbody>\n",
       "    <tr>\n",
       "      <th>EPSP</th>\n",
       "      <td>0.010281</td>\n",
       "      <td>0.010747</td>\n",
       "      <td>-0.002510</td>\n",
       "      <td>-0.011957</td>\n",
       "      <td>0.006929</td>\n",
       "    </tr>\n",
       "    <tr>\n",
       "      <th>OPM</th>\n",
       "      <td>0.010747</td>\n",
       "      <td>0.038002</td>\n",
       "      <td>-0.000704</td>\n",
       "      <td>-0.021568</td>\n",
       "      <td>0.005114</td>\n",
       "    </tr>\n",
       "    <tr>\n",
       "      <th>BTMR</th>\n",
       "      <td>-0.002510</td>\n",
       "      <td>-0.000704</td>\n",
       "      <td>0.183353</td>\n",
       "      <td>0.073453</td>\n",
       "      <td>0.005851</td>\n",
       "    </tr>\n",
       "    <tr>\n",
       "      <th>small</th>\n",
       "      <td>-0.011957</td>\n",
       "      <td>-0.021568</td>\n",
       "      <td>0.073453</td>\n",
       "      <td>0.219000</td>\n",
       "      <td>-0.110980</td>\n",
       "    </tr>\n",
       "    <tr>\n",
       "      <th>medium</th>\n",
       "      <td>0.006929</td>\n",
       "      <td>0.005114</td>\n",
       "      <td>0.005851</td>\n",
       "      <td>-0.110980</td>\n",
       "      <td>0.226715</td>\n",
       "    </tr>\n",
       "  </tbody>\n",
       "</table>\n",
       "</div>"
      ],
      "text/plain": [
       "            EPSP       OPM      BTMR     small    medium\n",
       "EPSP    0.010281  0.010747 -0.002510 -0.011957  0.006929\n",
       "OPM     0.010747  0.038002 -0.000704 -0.021568  0.005114\n",
       "BTMR   -0.002510 -0.000704  0.183353  0.073453  0.005851\n",
       "small  -0.011957 -0.021568  0.073453  0.219000 -0.110980\n",
       "medium  0.006929  0.005114  0.005851 -0.110980  0.226715"
      ]
     },
     "execution_count": 16,
     "metadata": {},
     "output_type": "execute_result"
    }
   ],
   "source": [
    "# With pandas, we will check if the manual correlation function was right\n",
    "x.cov()"
   ]
  },
  {
   "cell_type": "code",
   "execution_count": 21,
   "metadata": {},
   "outputs": [
    {
     "data": {
      "text/plain": [
       "EPSP      0.010281\n",
       "OPM       0.038002\n",
       "BTMR      0.183353\n",
       "small     0.219000\n",
       "medium    0.226715\n",
       "dtype: float64"
      ]
     },
     "execution_count": 21,
     "metadata": {},
     "output_type": "execute_result"
    }
   ],
   "source": [
    "# Now we get the variance from the matrix that we got.\n",
    "x.var()"
   ]
  },
  {
   "cell_type": "code",
   "execution_count": 20,
   "metadata": {},
   "outputs": [
    {
     "data": {
      "text/html": [
       "<div>\n",
       "<style scoped>\n",
       "    .dataframe tbody tr th:only-of-type {\n",
       "        vertical-align: middle;\n",
       "    }\n",
       "\n",
       "    .dataframe tbody tr th {\n",
       "        vertical-align: top;\n",
       "    }\n",
       "\n",
       "    .dataframe thead th {\n",
       "        text-align: right;\n",
       "    }\n",
       "</style>\n",
       "<table border=\"1\" class=\"dataframe\">\n",
       "  <thead>\n",
       "    <tr style=\"text-align: right;\">\n",
       "      <th></th>\n",
       "      <th>EPSP</th>\n",
       "      <th>OPM</th>\n",
       "      <th>BTMR</th>\n",
       "      <th>small</th>\n",
       "      <th>medium</th>\n",
       "    </tr>\n",
       "  </thead>\n",
       "  <tbody>\n",
       "    <tr>\n",
       "      <th>EPSP</th>\n",
       "      <td>1.000000</td>\n",
       "      <td>0.543709</td>\n",
       "      <td>-0.057806</td>\n",
       "      <td>-0.251986</td>\n",
       "      <td>0.143513</td>\n",
       "    </tr>\n",
       "    <tr>\n",
       "      <th>OPM</th>\n",
       "      <td>0.543709</td>\n",
       "      <td>1.000000</td>\n",
       "      <td>-0.008431</td>\n",
       "      <td>-0.236421</td>\n",
       "      <td>0.055093</td>\n",
       "    </tr>\n",
       "    <tr>\n",
       "      <th>BTMR</th>\n",
       "      <td>-0.057806</td>\n",
       "      <td>-0.008431</td>\n",
       "      <td>1.000000</td>\n",
       "      <td>0.366559</td>\n",
       "      <td>0.028695</td>\n",
       "    </tr>\n",
       "    <tr>\n",
       "      <th>small</th>\n",
       "      <td>-0.251986</td>\n",
       "      <td>-0.236421</td>\n",
       "      <td>0.366559</td>\n",
       "      <td>1.000000</td>\n",
       "      <td>-0.498059</td>\n",
       "    </tr>\n",
       "    <tr>\n",
       "      <th>medium</th>\n",
       "      <td>0.143513</td>\n",
       "      <td>0.055093</td>\n",
       "      <td>0.028695</td>\n",
       "      <td>-0.498059</td>\n",
       "      <td>1.000000</td>\n",
       "    </tr>\n",
       "  </tbody>\n",
       "</table>\n",
       "</div>"
      ],
      "text/plain": [
       "            EPSP       OPM      BTMR     small    medium\n",
       "EPSP    1.000000  0.543709 -0.057806 -0.251986  0.143513\n",
       "OPM     0.543709  1.000000 -0.008431 -0.236421  0.055093\n",
       "BTMR   -0.057806 -0.008431  1.000000  0.366559  0.028695\n",
       "small  -0.251986 -0.236421  0.366559  1.000000 -0.498059\n",
       "medium  0.143513  0.055093  0.028695 -0.498059  1.000000"
      ]
     },
     "execution_count": 20,
     "metadata": {},
     "output_type": "execute_result"
    }
   ],
   "source": [
    "# Con pandas vamos a ver si está bien la función de covarianza manual\n",
    "x.corr()"
   ]
  },
  {
   "cell_type": "markdown",
   "metadata": {},
   "source": [
    "- \n",
    "   - Corre pruebas estadísticas para detectar outliers y leverage points. Tiene que utilizar álgebra matricial para las pruebas y explicar claramente cómo funcionan las pruebas. Puede utilizar funciones de Python para corroborar resultados."
   ]
  },
  {
   "cell_type": "markdown",
   "metadata": {},
   "source": [
    "2. #### Hace un análisis de multicolinealidad explicando la prueba e implicaciones en el modelo:"
   ]
  },
  {
   "cell_type": "markdown",
   "metadata": {},
   "source": [
    "3. #### Propone e implementa soluciones a los problemas de los puntos anteriores para que el modelo sea el más adecuado."
   ]
  },
  {
   "cell_type": "markdown",
   "metadata": {},
   "source": [
    "4. #### Estima e interpreta un modelo de regresión múltiple después de atender los problemas anteriores. Tiene que utilizar álgebra matricial para estimar coeficientes y errores estándar del modelo de regresión, y utilizar funciones de Python para corroborar resultados."
   ]
  },
  {
   "cell_type": "code",
   "execution_count": null,
   "metadata": {},
   "outputs": [],
   "source": [
    "mod_x = pd.DataFrame()\n",
    "mod_x['1'] = 1\n",
    "mod_x = x[['1', 'isSmall', 'isMedium', 'EPSP', 'OPM', 'Book_to_Market_ratio']]\n",
    "mod_x = mod_x.to_numpy()\n",
    "x_trans = np.transpose(mod_x)"
   ]
  },
  {
   "cell_type": "code",
   "execution_count": null,
   "metadata": {},
   "outputs": [],
   "source": []
  },
  {
   "cell_type": "code",
   "execution_count": null,
   "metadata": {},
   "outputs": [],
   "source": []
  },
  {
   "cell_type": "markdown",
   "metadata": {
    "id": "o6DZsu63sKgb"
   },
   "source": [
    "Primer valor de x son 1\n",
    "\n",
    "x´ es x transpuesta\n",
    "\n",
    "x^1 es x inversa\n",
    "\n",
    "(x´x)^-1x´y"
   ]
  }
 ],
 "metadata": {
  "colab": {
   "provenance": []
  },
  "kernelspec": {
   "display_name": "Python 3.10.3 64-bit",
   "language": "python",
   "name": "python3"
  },
  "language_info": {
   "codemirror_mode": {
    "name": "ipython",
    "version": 3
   },
   "file_extension": ".py",
   "mimetype": "text/x-python",
   "name": "python",
   "nbconvert_exporter": "python",
   "pygments_lexer": "ipython3",
   "version": "3.10.3"
  },
  "vscode": {
   "interpreter": {
    "hash": "c47c896eb7d247e37b2e85063757fb1d5709b8397f6f1d76972efaa0b0675ad6"
   }
  }
 },
 "nbformat": 4,
 "nbformat_minor": 1
}
